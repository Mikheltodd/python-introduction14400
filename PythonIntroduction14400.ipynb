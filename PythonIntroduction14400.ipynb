{
  "nbformat": 4,
  "nbformat_minor": 0,
  "metadata": {
    "colab": {
      "private_outputs": true,
      "provenance": [],
      "authorship_tag": "ABX9TyM1TCZfc5CPysm80KZrit4d",
      "include_colab_link": true
    },
    "kernelspec": {
      "name": "python3",
      "display_name": "Python 3"
    },
    "language_info": {
      "name": "python"
    }
  },
  "cells": [
    {
      "cell_type": "markdown",
      "metadata": {
        "id": "view-in-github",
        "colab_type": "text"
      },
      "source": [
        "<a href=\"https://colab.research.google.com/github/Mikheltodd/python-introduction14400/blob/main/PythonIntroduction14400.ipynb\" target=\"_parent\"><img src=\"https://colab.research.google.com/assets/colab-badge.svg\" alt=\"Open In Colab\"/></a>"
      ]
    },
    {
      "cell_type": "markdown",
      "source": [
        "# Mis primeros pasos con Python\n",
        "### Fundamentos de Programación\n",
        "\n",
        "**Nombre:** Miguel Ortiz\n",
        "\n",
        "__email:__ miguel.ortizp@upb.edu.co\n",
        "\n",
        "*Fecha de creación:* 21 de agosto de 2024\n",
        "\n",
        "_Excelsius!_\n"
      ],
      "metadata": {
        "id": "4CYHhqwH7fb8"
      }
    },
    {
      "cell_type": "code",
      "execution_count": null,
      "metadata": {
        "id": "sUWrzjKM691b"
      },
      "outputs": [],
      "source": [
        "# Mis primeros pasitos (muy pequeñitos)\n",
        "\n",
        "print(\"Hola Mundo\")\n",
        "\n",
        "name = \"Miguelangelo\"\n",
        "age = 35\n",
        "\n",
        "print(\"Mi nombre es\", name, \"y mi edad es\", age)\n"
      ]
    },
    {
      "cell_type": "code",
      "source": [
        "# Operaciones matemáticas básicas\n",
        "\n",
        "a = 10\n",
        "b = 5\n",
        "print(a + b) # suma\n",
        "print(a - b) # resta\n",
        "print(a * b) # multiplicación\n",
        "print(a / b) # división\n",
        "print(a % b) # módulo (resto de la división)\n",
        "print(a ** b) # exponenciación\n",
        "print(a // b) # división entera"
      ],
      "metadata": {
        "id": "ewQeA6VgAb0M"
      },
      "execution_count": null,
      "outputs": []
    },
    {
      "cell_type": "code",
      "source": [
        "# Cambio de números\n",
        "\n",
        "salchipapa = 20000\n",
        "bebida = 2000\n",
        "total = salchipapa + bebida\n",
        "print(total)\n",
        "bebida = 3500\n",
        "total = salchipapa + bebida\n",
        "print(total)"
      ],
      "metadata": {
        "id": "_ZU8hBUpDCWh"
      },
      "execution_count": null,
      "outputs": []
    },
    {
      "cell_type": "code",
      "source": [
        "# Concatenación\n",
        "\n",
        "name = \"Miguel\"\n",
        "lastname = \"Ortiz\"\n",
        "# fullname = name + ' ' + lastname\n",
        "fullname = name + ' ' + lastname + ' '\n",
        "print(\"-\" * 20)\n",
        "print(fullname * 5)\n",
        "print(\"-\" * 20)"
      ],
      "metadata": {
        "id": "n63TKNZjE5vx"
      },
      "execution_count": null,
      "outputs": []
    },
    {
      "cell_type": "code",
      "source": [
        "# Incrementos\n",
        "\n",
        "a = 10\n",
        "print(a)\n",
        "b = 5\n",
        "a += b\n",
        "print(a)\n",
        "a -= b\n",
        "print(a)\n",
        "a *= b\n",
        "print(a)\n",
        "a /= b\n",
        "print(a)\n",
        "a %= b\n",
        "print(a)\n",
        "a **= b\n",
        "print(a)\n",
        "a //= b\n",
        "print(a)"
      ],
      "metadata": {
        "id": "j4oVabavFpkW"
      },
      "execution_count": null,
      "outputs": []
    },
    {
      "cell_type": "code",
      "source": [
        "# Multi-line String\n",
        "\n",
        "song = \"\"\"\n",
        "Is this the real life? Is this just fantasy?\n",
        "Caught in a landslide, no escape from reality\n",
        "Open your eyes, look up to the skies and see\n",
        "I'm just a poor boy, I need no sympathy\n",
        "Because I'm easy come, easy go\n",
        "Little high, little low\n",
        "Any way the wind blows doesn't really matter to me, to me\n",
        "\"\"\"\n",
        "print(song)"
      ],
      "metadata": {
        "id": "QnQS8dfUHCjC"
      },
      "execution_count": null,
      "outputs": []
    },
    {
      "cell_type": "code",
      "source": [
        "# Entrada de usuario\n",
        "\n",
        "a = float(input(\"Ingrese el primer número: \"))\n",
        "b = float(input(\"Ingrese el segundo número: \"))\n",
        "c = a + b\n",
        "print(c)"
      ],
      "metadata": {
        "id": "9RT34v8pHp5U"
      },
      "execution_count": null,
      "outputs": []
    },
    {
      "cell_type": "markdown",
      "source": [
        "### Ejercicios de Estructuras Secuenciales"
      ],
      "metadata": {
        "id": "OGBcUAlpp0mR"
      }
    },
    {
      "cell_type": "code",
      "source": [
        "# // Programa para calcular el IMC a partir del peso en kg y la altura en m\n",
        "\n",
        "# // Obtener datos\n",
        "peso = float(input(\"Ingrese el peso en kg: \"))\n",
        "altura = float(input(\"Ingrese la altura en m: \"))\n",
        "\n",
        "# // Cálculo\n",
        "imc = peso / altura ** 2\n",
        "\n",
        "# // Resultado\n",
        "print(\"El IMC es\", round(imc, 2))"
      ],
      "metadata": {
        "id": "WSiWkCRsIicW"
      },
      "execution_count": null,
      "outputs": []
    },
    {
      "cell_type": "code",
      "source": [
        "peso = float(input(\"Ingrese el peso en kg: \"))\n",
        "altura = float(input(\"Ingrese la altura en m: \"))\n",
        "imc = peso / altura ** 2\n",
        "print(\"El IMC es \", imc)"
      ],
      "metadata": {
        "id": "odtOGU8WtSYs"
      },
      "execution_count": null,
      "outputs": []
    },
    {
      "cell_type": "code",
      "source": [
        "# // Programa para calcular el monto final de una inversión con interés compuesto\n",
        "\n",
        "# // Obtener datos\n",
        "capital = float(input(\"Ingrese el capital inicial: \"))\n",
        "tasa = float(input(\"Ingrese la tasa de interés anual: \")) / 100\n",
        "tiempo = float(input(\"Ingrese el número de años de la inversión: \"))\n",
        "n = float(input(\"Ingrese la cantidad de veces que el interés se capitaliza por año: \"))\n",
        "\n",
        "# capital = 100\n",
        "# tasa = 10 / 100\n",
        "# tiempo = 10\n",
        "# n = 1\n",
        "\n",
        "# // Cálculo\n",
        "montoFinal = capital * (1 + tasa / n) ** (n * tiempo)\n",
        "print(\"El monto final es $\", round(montoFinal, 2))"
      ],
      "metadata": {
        "id": "Y_ojYsj0vK5I"
      },
      "execution_count": null,
      "outputs": []
    },
    {
      "cell_type": "code",
      "source": [],
      "metadata": {
        "id": "MI0fvKP30RYT"
      },
      "execution_count": null,
      "outputs": []
    }
  ]
}